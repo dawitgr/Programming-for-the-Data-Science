{
 "cells": [
  {
   "cell_type": "raw",
   "metadata": {},
   "source": [
    "Dawit Reda\n",
    "ID#10189420\n",
    "Module 5 Assignment: Statistical Regression Analysis\n",
    "Programming for the Data Science\n",
    "Submitted to Dr. Daniel Wu"
   ]
  },
  {
   "cell_type": "markdown",
   "metadata": {},
   "source": [
    "# Linear Regression"
   ]
  },
  {
   "cell_type": "code",
   "execution_count": 47,
   "metadata": {},
   "outputs": [],
   "source": [
    "#import all important libraries \n",
    "import numpy as np\n",
    "import statsmodels.api as sm\n",
    "import pandas as pd\n",
    "import matplotlib.pyplot as plt \n",
    "from sklearn import linear_model\n",
    "import statsmodels.api as sm"
   ]
  },
  {
   "cell_type": "code",
   "execution_count": 48,
   "metadata": {},
   "outputs": [
    {
     "name": "stdout",
     "output_type": "stream",
     "text": [
      "             Industry  Insider_Ownership  Debt_Ratio  Dividend_Payout\n",
      "0              Mining                8.2        14.2             10.4\n",
      "1   Food and beverage               18.4        20.8             14.3\n",
      "2           Furniture               11.8        18.6             12.1\n",
      "3          Publishing               28.0        18.5             11.8\n",
      "4  Petroleum refining                7.4        28.2             10.6\n"
     ]
    }
   ],
   "source": [
    "#load data from local\n",
    "file_name =  r'C:\\Users\\redadg\\Desktop\\Old Desktop\\MS\\Programming for data science\\Assignmnets\\Module 5\\MCIS540-M5-Data.xlsx'\n",
    "# sheet name or sheet number or list of sheet numbers and names\n",
    "sheet = r'mcis540_data' \n",
    "\n",
    "#read the data from the excel\n",
    "df = pd.read_excel(io=file_name, sheet_name=sheet)\n",
    "print(df.head())  "
   ]
  },
  {
   "cell_type": "code",
   "execution_count": 49,
   "metadata": {},
   "outputs": [
    {
     "data": {
      "text/html": [
       "<div>\n",
       "<style scoped>\n",
       "    .dataframe tbody tr th:only-of-type {\n",
       "        vertical-align: middle;\n",
       "    }\n",
       "\n",
       "    .dataframe tbody tr th {\n",
       "        vertical-align: top;\n",
       "    }\n",
       "\n",
       "    .dataframe thead th {\n",
       "        text-align: right;\n",
       "    }\n",
       "</style>\n",
       "<table border=\"1\" class=\"dataframe\">\n",
       "  <thead>\n",
       "    <tr style=\"text-align: right;\">\n",
       "      <th></th>\n",
       "      <th>Insider_Ownership</th>\n",
       "      <th>Debt_Ratio</th>\n",
       "      <th>Dividend_Payout</th>\n",
       "    </tr>\n",
       "  </thead>\n",
       "  <tbody>\n",
       "    <tr>\n",
       "      <th>count</th>\n",
       "      <td>11.000000</td>\n",
       "      <td>11.000000</td>\n",
       "      <td>11.000000</td>\n",
       "    </tr>\n",
       "    <tr>\n",
       "      <th>mean</th>\n",
       "      <td>14.981818</td>\n",
       "      <td>24.345455</td>\n",
       "      <td>10.545455</td>\n",
       "    </tr>\n",
       "    <tr>\n",
       "      <th>std</th>\n",
       "      <td>5.866655</td>\n",
       "      <td>9.559745</td>\n",
       "      <td>2.867879</td>\n",
       "    </tr>\n",
       "    <tr>\n",
       "      <th>min</th>\n",
       "      <td>7.400000</td>\n",
       "      <td>14.200000</td>\n",
       "      <td>4.100000</td>\n",
       "    </tr>\n",
       "    <tr>\n",
       "      <th>25%</th>\n",
       "      <td>10.900000</td>\n",
       "      <td>18.550000</td>\n",
       "      <td>9.700000</td>\n",
       "    </tr>\n",
       "    <tr>\n",
       "      <th>50%</th>\n",
       "      <td>15.400000</td>\n",
       "      <td>21.700000</td>\n",
       "      <td>11.300000</td>\n",
       "    </tr>\n",
       "    <tr>\n",
       "      <th>75%</th>\n",
       "      <td>18.250000</td>\n",
       "      <td>26.450000</td>\n",
       "      <td>12.350000</td>\n",
       "    </tr>\n",
       "    <tr>\n",
       "      <th>max</th>\n",
       "      <td>28.000000</td>\n",
       "      <td>46.700000</td>\n",
       "      <td>14.300000</td>\n",
       "    </tr>\n",
       "  </tbody>\n",
       "</table>\n",
       "</div>"
      ],
      "text/plain": [
       "       Insider_Ownership  Debt_Ratio  Dividend_Payout\n",
       "count          11.000000   11.000000        11.000000\n",
       "mean           14.981818   24.345455        10.545455\n",
       "std             5.866655    9.559745         2.867879\n",
       "min             7.400000   14.200000         4.100000\n",
       "25%            10.900000   18.550000         9.700000\n",
       "50%            15.400000   21.700000        11.300000\n",
       "75%            18.250000   26.450000        12.350000\n",
       "max            28.000000   46.700000        14.300000"
      ]
     },
     "execution_count": 49,
     "metadata": {},
     "output_type": "execute_result"
    }
   ],
   "source": [
    "#To see statistical details of the dataset, we can use describe():\n",
    "df.describe()  "
   ]
  },
  {
   "cell_type": "markdown",
   "metadata": {},
   "source": [
    "# Checking for Linearity "
   ]
  },
  {
   "cell_type": "code",
   "execution_count": 50,
   "metadata": {},
   "outputs": [
    {
     "data": {
      "image/png": "[encoded data removed]",
      "text/plain": [
       "<Figure size 432x288 with 1 Axes>"
      ]
     },
     "metadata": {
      "needs_background": "light"
     },
     "output_type": "display_data"
    },
    {
     "data": {
      "image/png": "[encoded data removed]",
      "text/plain": [
       "<Figure size 432x288 with 1 Axes>"
      ]
     },
     "metadata": {
      "needs_background": "light"
     },
     "output_type": "display_data"
    }
   ],
   "source": [
    "#checking if a linear relationship exists between Insider_Ownership and Debt_Ratio\n",
    "plt.scatter(df['Debt_Ratio'], df['Insider_Ownership'], color='red')\n",
    "plt.title('Insider_Ownership Vs Debt_Ratio ', fontsize=14)\n",
    "plt.xlabel('Debt_Ratio', fontsize=14)\n",
    "plt.ylabel('Insider_Ownership', fontsize=14)\n",
    "plt.grid(True)\n",
    "plt.show()\n",
    "\n",
    "#checking if a linear relationship exists between Insider_Ownership and Dividend_Payout\n",
    "plt.scatter(df['Dividend_Payout'], df['Insider_Ownership'], color='blue')\n",
    "plt.title('Insider_Ownership Vs Dividend_Payout ', fontsize=14)\n",
    "plt.xlabel('Dividend_Payout', fontsize=14)\n",
    "plt.ylabel('Insider_Ownership', fontsize=14)\n",
    "plt.grid(True)\n",
    "plt.show()\n"
   ]
  },
  {
   "cell_type": "raw",
   "metadata": {},
   "source": [
    "As we can see above, a linear relationship exists in both plots: when Insider_Ownership go up, the Debt_Ratio goes down and for the second plot when the insider ownership goes up the dividend also significantly goes up."
   ]
  },
  {
   "cell_type": "markdown",
   "metadata": {},
   "source": [
    "# Statsmodels"
   ]
  },
  {
   "cell_type": "raw",
   "metadata": {},
   "source": [
    "Let's develop the equation of the regression model to predict insider ownership by debt ratio and dividend payout"
   ]
  },
  {
   "cell_type": "code",
   "execution_count": 51,
   "metadata": {},
   "outputs": [
    {
     "name": "stdout",
     "output_type": "stream",
     "text": [
      "                            OLS Regression Results                            \n",
      "==============================================================================\n",
      "Dep. Variable:      Insider_Ownership   R-squared:                       0.005\n",
      "Model:                            OLS   Adj. R-squared:                 -0.244\n",
      "Method:                 Least Squares   F-statistic:                   0.01845\n",
      "Date:                Sat, 13 Apr 2019   Prob (F-statistic):              0.982\n",
      "Time:                        19:12:35   Log-Likelihood:                -34.521\n",
      "No. Observations:                  11   AIC:                             75.04\n",
      "Df Residuals:                       8   BIC:                             76.24\n",
      "Df Model:                           2                                         \n",
      "Covariance Type:            nonrobust                                         \n",
      "===================================================================================\n",
      "                      coef    std err          t      P>|t|      [0.025      0.975]\n",
      "-----------------------------------------------------------------------------------\n",
      "const              17.6772     17.560      1.007      0.344     -22.816      58.170\n",
      "Debt_Ratio         -0.0594      0.315     -0.189      0.855      -0.785       0.667\n",
      "Dividend_Payout    -0.1184      1.050     -0.113      0.913      -2.539       2.302\n",
      "==============================================================================\n",
      "Omnibus:                        2.494   Durbin-Watson:                   2.987\n",
      "Prob(Omnibus):                  0.287   Jarque-Bera (JB):                0.856\n",
      "Skew:                           0.678   Prob(JB):                        0.652\n",
      "Kurtosis:                       3.176   Cond. No.                         247.\n",
      "==============================================================================\n",
      "\n",
      "Warnings:\n",
      "[1] Standard Errors assume that the covariance matrix of the errors is correctly specified.\n"
     ]
    },
    {
     "name": "stderr",
     "output_type": "stream",
     "text": [
      "C:\\ProgramData\\Anaconda3\\lib\\site-packages\\scipy\\stats\\stats.py:1394: UserWarning: kurtosistest only valid for n>=20 ... continuing anyway, n=11\n",
      "  \"anyway, n=%i\" % int(n))\n"
     ]
    }
   ],
   "source": [
    "#let us define a function that estimate a  multiple regression \n",
    "\n",
    "# we have 2 variables for multiple regression, the debit and dividend payout\n",
    "X = df[['Debt_Ratio','Dividend_Payout']]\n",
    "#insider ownership will be a y value of the  multiple regression. \n",
    "Y  = df['Insider_Ownership']\n",
    "\n",
    "def reg_sm(Y,X):\n",
    "    # with statsmodels\n",
    "    # adding a constant\n",
    "    X = sm.add_constant(X) \n",
    "    #from the OLD anf fit method estimate of covariance matrix, residuals and an estimate of scale\n",
    "    model = sm.OLS(endog=Y, exog = X).fit()\n",
    "    # predict usu=ing the model\n",
    "    predictions = model.predict(X)\n",
    "    results = model.summary()\n",
    "    return results\n",
    "\n",
    "#call the method and pass a multiple variables to print out mutiple regression\n",
    "print(reg_sm(Y,X))\n"
   ]
  },
  {
   "cell_type": "raw",
   "metadata": {},
   "source": [
    "As we can see above, with high insider ownership choose lower levels of both debt and dividends. The OLS regression results shows that adjusted R-squared is -0.244. "
   ]
  },
  {
   "cell_type": "markdown",
   "metadata": {},
   "source": [
    "# Scikit-learn"
   ]
  },
  {
   "cell_type": "code",
   "execution_count": 52,
   "metadata": {},
   "outputs": [
    {
     "name": "stdout",
     "output_type": "stream",
     "text": [
      "Intercept: \n",
      " 17.67724122701509\n",
      "Coefficients: \n",
      " [-0.05944442 -0.11836583]\n"
     ]
    },
    {
     "data": {
      "text/plain": [
       "('Predicted Insider_Ownership: \\n', array([15.72132838]))"
      ]
     },
     "execution_count": 52,
     "metadata": {},
     "output_type": "execute_result"
    }
   ],
   "source": [
    "#let's find the Coefficients and Intercept using Scikit-learn\n",
    "def linear_model():\n",
    "    #import linear regression\n",
    "    from sklearn import datasets, linear_model\n",
    "    \n",
    "    regr = linear_model.LinearRegression()\n",
    "    #feed the linear regression with the train data to obtain a model.\n",
    "    regr.fit(X, Y)\n",
    "    #printout the Intercept using the linear_model.LinearRegression\n",
    "    print('Intercept: \\n', regr.intercept_)\n",
    "    #printout the Coefficients using the linear_model.LinearRegression\n",
    "    print('Coefficients: \\n', regr.coef_)\n",
    "    # prediction with sklearn, let us get the first value of Insider_Ownershi and Debt_Ratio \n",
    "    #from the datasetto predict(which is 11)\n",
    "    New_Insider_Ownership = 11\n",
    "    New_Debt_Ratio = 11\n",
    "    #print out the prediction of Insider_Ownership\n",
    "    results = 'Predicted Insider_Ownership: \\n', regr.predict([[New_Insider_Ownership ,New_Debt_Ratio]])\n",
    "    return results\n",
    "\n",
    "#call the function and print out Coefficients and Intercept\n",
    "linear_model()    \n",
    "\n"
   ]
  },
  {
   "cell_type": "raw",
   "metadata": {},
   "source": [
    "As we can from the regression result above, the intercept value using Scit learn is 17.67724122701509 and the Intercept value using StatesModel is  17.6772, Which is almost the same.    The Coefficients is also almost the same with the StatesModel ([-0.05944442 -0.11836583])"
   ]
  },
  {
   "cell_type": "code",
   "execution_count": null,
   "metadata": {},
   "outputs": [],
   "source": []
  },
  {
   "cell_type": "code",
   "execution_count": null,
   "metadata": {},
   "outputs": [],
   "source": []
  }
 ],
 "metadata": {
  "kernelspec": {
   "display_name": "Python 3",
   "language": "python",
   "name": "python3"
  },
  "language_info": {
   "codemirror_mode": {
    "name": "ipython",
    "version": 3
   },
   "file_extension": ".py",
   "mimetype": "text/x-python",
   "name": "python",
   "nbconvert_exporter": "python",
   "pygments_lexer": "ipython3",
   "version": "3.7.1"
  }
 },
 "nbformat": 4,
 "nbformat_minor": 2
}
